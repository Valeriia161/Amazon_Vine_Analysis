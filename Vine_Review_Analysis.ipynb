{
  "nbformat": 4,
  "nbformat_minor": 0,
  "metadata": {
    "colab": {
      "provenance": []
    },
    "kernelspec": {
      "name": "python3",
      "display_name": "Python 3"
    },
    "language_info": {
      "name": "python"
    }
  },
  "cells": [
    {
      "cell_type": "code",
      "execution_count": null,
      "metadata": {
        "colab": {
          "base_uri": "https://localhost:8080/"
        },
        "id": "OUPch5GGXjyc",
        "outputId": "b3125a44-dacf-44aa-9dab-79bb6d963d1b"
      },
      "outputs": [
        {
          "output_type": "stream",
          "name": "stdout",
          "text": [
            "Get:1 http://security.ubuntu.com/ubuntu bionic-security InRelease [88.7 kB]\n",
            "Get:2 https://cloud.r-project.org/bin/linux/ubuntu bionic-cran40/ InRelease [3,626 B]\n",
            "Ign:3 https://developer.download.nvidia.com/compute/machine-learning/repos/ubuntu1804/x86_64  InRelease\n",
            "Hit:4 http://ppa.launchpad.net/c2d4u.team/c2d4u4.0+/ubuntu bionic InRelease\n",
            "Get:5 https://developer.download.nvidia.com/compute/cuda/repos/ubuntu1804/x86_64  InRelease [1,581 B]\n",
            "Hit:6 https://developer.download.nvidia.com/compute/machine-learning/repos/ubuntu1804/x86_64  Release\n",
            "Hit:7 http://archive.ubuntu.com/ubuntu bionic InRelease\n",
            "Get:8 http://archive.ubuntu.com/ubuntu bionic-updates InRelease [88.7 kB]\n",
            "Hit:9 http://ppa.launchpad.net/cran/libgit2/ubuntu bionic InRelease\n",
            "Hit:10 http://ppa.launchpad.net/deadsnakes/ppa/ubuntu bionic InRelease\n",
            "Get:11 http://archive.ubuntu.com/ubuntu bionic-backports InRelease [83.3 kB]\n",
            "Hit:12 http://ppa.launchpad.net/graphics-drivers/ppa/ubuntu bionic InRelease\n",
            "Get:13 http://security.ubuntu.com/ubuntu bionic-security/universe amd64 Packages [1,563 kB]\n",
            "Get:14 http://security.ubuntu.com/ubuntu bionic-security/main amd64 Packages [3,068 kB]\n",
            "Get:15 https://developer.download.nvidia.com/compute/cuda/repos/ubuntu1804/x86_64  Packages [1,038 kB]\n",
            "Get:17 http://archive.ubuntu.com/ubuntu bionic-updates/main amd64 Packages [3,496 kB]\n",
            "Get:18 http://archive.ubuntu.com/ubuntu bionic-updates/universe amd64 Packages [2,338 kB]\n",
            "Get:19 http://archive.ubuntu.com/ubuntu bionic-updates/restricted amd64 Packages [1,303 kB]\n",
            "Fetched 13.1 MB in 7s (1,853 kB/s)\n",
            "Reading package lists... Done\n"
          ]
        }
      ],
      "source": [
        "import os\n",
        "# Find the latest version of spark 3.0  from http://www.apache.org/dist/spark/ and enter as the spark version\n",
        "# For example:\n",
        "# spark_version = 'spark-3.0.3'\n",
        "spark_version = 'spark-3.3.1'\n",
        "os.environ['SPARK_VERSION']=spark_version\n",
        "\n",
        "# Install Spark and Java\n",
        "!apt-get update\n",
        "!apt-get install openjdk-11-jdk-headless -qq > /dev/null\n",
        "!wget -q http://www.apache.org/dist/spark/{spark_version}/{spark_version}-bin-hadoop3.tgz\n",
        "!tar xf $SPARK_VERSION-bin-hadoop3.tgz\n",
        "!pip install -q findspark\n",
        "\n",
        "# Set Environment Variables\n",
        "os.environ[\"JAVA_HOME\"] = \"/usr/lib/jvm/java-11-openjdk-amd64\"\n",
        "os.environ[\"SPARK_HOME\"] = f\"/content/{spark_version}-bin-hadoop3\"\n",
        "\n",
        "# Start a SparkSession\n",
        "import findspark\n",
        "findspark.init()\n"
      ]
    },
    {
      "cell_type": "code",
      "source": [
        "# Start Spark session \n",
        "from pyspark.sql import SparkSession\n",
        "spark = SparkSession.builder.appName(\"Vine_Reviews\").config(\"spark.driver.extraClassPath\",\"/content/postgresql-42.2.16.jar\").getOrCreate()"
      ],
      "metadata": {
        "id": "PjcpmeeOXzKr"
      },
      "execution_count": null,
      "outputs": []
    },
    {
      "cell_type": "code",
      "source": [
        "from pyspark import SparkFiles\n",
        "url = \"https://s3.amazonaws.com/amazon-reviews-pds/tsv/amazon_reviews_us_Gift_Card_v1_00.tsv.gz\"\n",
        "spark.sparkContext.addFile(url)\n",
        "df = spark.read.option(\"encoding\", \"UTF-8\").csv(SparkFiles.get(\"\"), sep=\"\\t\", header=True, inferSchema=True)\n",
        "df.show()"
      ],
      "metadata": {
        "colab": {
          "base_uri": "https://localhost:8080/"
        },
        "id": "cjkwU6SvX9xR",
        "outputId": "12a90bcf-f500-4644-b6d2-384b3b8322b5"
      },
      "execution_count": null,
      "outputs": [
        {
          "output_type": "stream",
          "name": "stdout",
          "text": [
            "+-----------+-----------+--------------+----------+--------------+--------------------+----------------+-----------+-------------+-----------+----+-----------------+--------------------+--------------------+-------------------+\n",
            "|marketplace|customer_id|     review_id|product_id|product_parent|       product_title|product_category|star_rating|helpful_votes|total_votes|vine|verified_purchase|     review_headline|         review_body|        review_date|\n",
            "+-----------+-----------+--------------+----------+--------------+--------------------+----------------+-----------+-------------+-----------+----+-----------------+--------------------+--------------------+-------------------+\n",
            "|         US|   24371595|R27ZP1F1CD0C3Y|B004LLIL5A|     346014806|Amazon eGift Card...|       Gift Card|          5|            0|          0|   N|                Y|          Five Stars|Great birthday gi...|2015-08-31 00:00:00|\n",
            "|         US|   42489718| RJ7RSBCHUDNNE|B004LLIKVU|     473048287|Amazon.com eGift ...|       Gift Card|          5|            0|          0|   N|                Y|Gift card for the...|It's an Amazon gi...|2015-08-31 00:00:00|\n",
            "|         US|     861463|R1HVYBSKLQJI5S|B00IX1I3G6|     926539283|Amazon.com Gift C...|       Gift Card|          5|            0|          0|   N|                Y|          Five Stars|                Good|2015-08-31 00:00:00|\n",
            "|         US|   25283295|R2HAXF0IIYQBIR|B00IX1I3G6|     926539283|Amazon.com Gift C...|       Gift Card|          1|            0|          0|   N|                Y|            One Star|                Fair|2015-08-31 00:00:00|\n",
            "|         US|     397970| RNYLPX611NB7Q|B005ESMGV4|     379368939|Amazon.com Gift C...|       Gift Card|          5|            0|          0|   N|                Y|          Five Stars|I can't believe h...|2015-08-31 00:00:00|\n",
            "|         US|   18513645|R3ALA9XXMBEDZR|B004KNWWU4|     326384774|Amazon Gift Card ...|       Gift Card|          5|            0|          0|   N|                Y|Perfect for most ...|Perfect!  Nice & ...|2015-08-31 00:00:00|\n",
            "|         US|   22484620|R3R8PHAVJFTPDF|B004LLIKVU|     473048287|Amazon.com eGift ...|       Gift Card|          5|            0|          0|   N|                Y|          Five Stars|            excelent|2015-08-31 00:00:00|\n",
            "|         US|   14765851|R18WWEK8OIXE30|BT00CTP2EE|     775486538|Amazon.com Gift C...|       Gift Card|          5|            0|          0|   N|                Y|          Five Stars|Great and Safe Gi...|2015-08-31 00:00:00|\n",
            "|         US|   18751931|R1EGUNQON2J277|B004LLIKVU|     473048287|Amazon.com eGift ...|       Gift Card|          1|            0|          0|   N|                Y|            One Star|       What?????????|2015-08-31 00:00:00|\n",
            "|         US|   15100528|R21Z4M4L98CPU2|B004W8D102|     595099956|Amazon Gift Card ...|       Gift Card|          5|            0|          0|   N|                Y|          Five Stars|This was just too...|2015-08-31 00:00:00|\n",
            "|         US|    3559726| R6JH7A117FHFA|B004LLIKVU|     473048287|Amazon.com eGift ...|       Gift Card|          5|            0|          0|   N|                Y|          Five Stars|                Bien|2015-08-31 00:00:00|\n",
            "|         US|   23413911|R1XZHS8M1GCGI7|B004KNWWU4|     326384774|Amazon Gift Card ...|       Gift Card|          5|            1|          1|   N|                Y|         Always good|Easy to print fro...|2015-08-31 00:00:00|\n",
            "|         US|    2026222|R1DAI0N03SKRJN|B004LLIKVU|     473048287|Amazon.com eGift ...|       Gift Card|          5|            1|          1|   N|                Y|          Five Stars|Amazing with 10 d...|2015-08-31 00:00:00|\n",
            "|         US|   32956435|R2F6SKZOEYQRU3|B004LLIKVU|     473048287|Amazon.com eGift ...|       Gift Card|          5|            0|          0|   N|                N|          Five Stars|Remember Matthew ...|2015-08-31 00:00:00|\n",
            "|         US|   20241560| RIBOP6OEAZA47|B00H5BNLUS|     637715957|Amazon eGift Card...|       Gift Card|          5|            1|          1|   N|                Y|          Five Stars|                good|2015-08-31 00:00:00|\n",
            "|         US|   10670435|R15H8E7WD6XD29|B004KNWX6C|     763371347|Amazon Gift Card ...|       Gift Card|          5|            0|          0|   N|                Y|          Five Stars|Awesome way to se...|2015-08-31 00:00:00|\n",
            "|         US|   48872127| RVN4P3RU4F8IE|BT00CTOYC0|     506740729|Amazon.com $15 Gi...|       Gift Card|          5|            0|          0|   N|                Y|Quick Solution fo...|I love that I hav...|2015-08-31 00:00:00|\n",
            "|         US|     460630| RCS8F9JCAAXC7|B004LLIKVU|     473048287|Amazon.com eGift ...|       Gift Card|          4|            0|          0|   N|                Y|          Four Stars|Good gift. Easy t...|2015-08-31 00:00:00|\n",
            "|         US|   41238378| R6811C4E7UYL2|B00H5BMH44|      81025991|Amazon eGift Card...|       Gift Card|          5|            0|          0|   N|                Y|  Satisfied customer|Satisfied as usua...|2015-08-31 00:00:00|\n",
            "|         US|   14222739|R196T0NZ73TYIM|B005ESMMKE|     459536087|Amazon.com Gift C...|       Gift Card|          5|            1|          1|   N|                Y|          Five Stars|                nice|2015-08-31 00:00:00|\n",
            "+-----------+-----------+--------------+----------+--------------+--------------------+----------------+-----------+-------------+-----------+----+-----------------+--------------------+--------------------+-------------------+\n",
            "only showing top 20 rows\n",
            "\n"
          ]
        }
      ]
    },
    {
      "cell_type": "code",
      "source": [
        "# Load in a  SQL function to use columns\n",
        "from pyspark.sql.functions import col"
      ],
      "metadata": {
        "id": "7FY0WvSJY9po"
      },
      "execution_count": 6,
      "outputs": []
    },
    {
      "cell_type": "code",
      "source": [
        "# Filter for only columns with total_votes count is equal to or greater than 20\n",
        "cleaned_df = df.filter(col(\"total_votes\") >= 20)\n",
        "cleaned_df.show()"
      ],
      "metadata": {
        "id": "FQ_ZqVtYYHSS",
        "colab": {
          "base_uri": "https://localhost:8080/"
        },
        "outputId": "6ce34b04-dd29-45a7-aae6-ab4b4eb5f2fd"
      },
      "execution_count": 9,
      "outputs": [
        {
          "output_type": "stream",
          "name": "stdout",
          "text": [
            "+-----------+-----------+--------------+----------+--------------+--------------------+----------------+-----------+-------------+-----------+----+-----------------+--------------------+--------------------+-------------------+\n",
            "|marketplace|customer_id|     review_id|product_id|product_parent|       product_title|product_category|star_rating|helpful_votes|total_votes|vine|verified_purchase|     review_headline|         review_body|        review_date|\n",
            "+-----------+-----------+--------------+----------+--------------+--------------------+----------------+-----------+-------------+-----------+----+-----------------+--------------------+--------------------+-------------------+\n",
            "|         US|   18888920|R36PQ9D8L2AAOH|B00JDQJVF2|     255898874|Amazon.com Gift C...|       Gift Card|          5|           30|         32|   N|                Y|          Five Stars|Love this adorabl...|2015-08-26 00:00:00|\n",
            "|         US|    4765280|R23GHBE86II0SK|B007V6ETDK|     924812503|Amazon eGift Card...|       Gift Card|          5|           18|         21|   N|                Y|Los Angeles Alway...|      Great idea Ama|2015-08-18 00:00:00|\n",
            "|         US|   39230280|R18KVPY0TO33BM|B00JDQJVF2|     255898874|Amazon.com Gift C...|       Gift Card|          5|          241|        248|   N|                Y|Very sweet and co...|I am very impress...|2015-08-16 00:00:00|\n",
            "|         US|     167348|R2ZB78BDM8BRCF|B004LLIKVU|     473048287|Amazon.com eGift ...|       Gift Card|          1|           99|        113|   N|                Y|             Scammed|You should have a...|2015-08-13 00:00:00|\n",
            "|         US|   16553928|R2JMJOWGM7V7NX|BT00CTP6MM|     775486538|Amazon.com Gift C...|       Gift Card|          4|           20|         20|   N|                N|          Four Stars|Thank you note wa...|2015-07-24 00:00:00|\n",
            "|         US|   39357721|R10ORTN0I3G5B9|B00IX1I3G6|     926539283|Amazon.com Gift C...|       Gift Card|          1|           19|         26|   N|                Y|It is getting clo...|Gift cards are no...|2015-07-18 00:00:00|\n",
            "|         US|   43437405|R1D1VPJBTP1WG8|B00IX1I3G6|     926539283|Amazon.com Gift C...|       Gift Card|          1|           38|         51|   N|                Y|I am still waitin...|I recently tried ...|2015-07-13 00:00:00|\n",
            "|         US|   50118836|R3Q3ULUTULAQYH|B00IX1I3G6|     926539283|Amazon.com Gift C...|       Gift Card|          1|           22|         29|   N|                Y|      Not impressed.|Am not impressed....|2015-07-11 00:00:00|\n",
            "|         US|   20020797|R1SHEELXA1IXQP|B00A48G0D4|     848703272|Amazon eGift Card...|       Gift Card|          5|           45|         57|   N|                Y|These gift cards ...|These are handy! ...|2015-07-10 00:00:00|\n",
            "|         US|     212175|R1IQJ99JOPJOE4|B004LLIKVU|     473048287|Amazon.com eGift ...|       Gift Card|          5|           73|         94|   N|                N|                😅😂|Ok, I haven't bou...|2015-07-08 00:00:00|\n",
            "|         US|     338223|R32PHGNOUNJVY2|B004LLIKVU|     473048287|Amazon.com eGift ...|       Gift Card|          1|          111|        150|   N|                Y|            One Star|the Quality is ve...|2015-07-06 00:00:00|\n",
            "|         US|     256644|R32HQ18L7FOP3N|B005FGQHKQ|     379368939|Amazon.com Gift C...|       Gift Card|          1|           18|         23|   N|                N|              Read!!|Most of the 5-sta...|2015-07-06 00:00:00|\n",
            "|         US|   50541491|R2IPGL0F4OCNO9|B00JFBLZ90|     255898874|Amazon.com Gift C...|       Gift Card|          1|           18|         24|   N|                N|I ordered a gift ...|I ordered a gift ...|2015-06-24 00:00:00|\n",
            "|         US|    2547198| R4RNS35ZXYWSU|B00JDQKELW|     832087091|Amazon.com Gift C...|       Gift Card|          2|           52|         59|   N|                Y|   Dented Metal Case|Though the card w...|2015-06-22 00:00:00|\n",
            "|         US|    2290967| R5S7HIQAWL5QS|B0091JL2CQ|     349029296|Amazon.com Gift C...|       Gift Card|          5|           48|         49|   N|                Y|This is seriously...|I purchased this ...|2015-06-14 00:00:00|\n",
            "|         US|   50733118|R12LGU9RL181NG|B004LLIKVU|     473048287|Amazon.com eGift ...|       Gift Card|          1|         5987|       6323|   N|                Y|Amazon should do ...|I think I am just...|2015-06-13 00:00:00|\n",
            "|         US|   21950425|R1ZMHE6AO0T6MO|B00CHQKIDE|     564167907|Amazon.com Gift C...|       Gift Card|          5|           67|         75|   N|                N|          Five Stars|     Awesome to have|2015-06-11 00:00:00|\n",
            "|         US|    1356854| R66RKRKYK3VMO|B0066AZGD4|     136017760|Amazon eGift Card...|       Gift Card|          5|           74|         89|   N|                Y|\"When you really ...|Love that you can...|2015-06-05 00:00:00|\n",
            "|         US|    3250748| R1SVG06BEMESM|B004LLIKVU|     473048287|Amazon.com eGift ...|       Gift Card|          5|           92|        126|   N|                Y|my first order of...|this is the third...|2015-06-04 00:00:00|\n",
            "|         US|   52940323|R1Q5MWSSP3RMYJ|B00JDQJVF2|     255898874|Amazon.com Gift C...|       Gift Card|          1|           25|         29|   N|                Y|Risky Gift Card D...|What's not to lik...|2015-06-03 00:00:00|\n",
            "+-----------+-----------+--------------+----------+--------------+--------------------+----------------+-----------+-------------+-----------+----+-----------------+--------------------+--------------------+-------------------+\n",
            "only showing top 20 rows\n",
            "\n"
          ]
        }
      ]
    },
    {
      "cell_type": "code",
      "source": [
        "# Filter for only with  number of helpful_votes divided by total_votes is equal to or greater than 50%.\n",
        "divided_df = cleaned_df.filter(cleaned_df[\"helpful_votes\"]/cleaned_df[\"total_votes\"] >= 0.5)\n",
        "divided_df.show()"
      ],
      "metadata": {
        "colab": {
          "base_uri": "https://localhost:8080/"
        },
        "id": "AdZv7VrYZT9W",
        "outputId": "67e66683-7297-4b62-f94e-4647a5aa69a2"
      },
      "execution_count": 14,
      "outputs": [
        {
          "output_type": "stream",
          "name": "stdout",
          "text": [
            "+-----------+-----------+--------------+----------+--------------+--------------------+----------------+-----------+-------------+-----------+----+-----------------+--------------------+--------------------+-------------------+\n",
            "|marketplace|customer_id|     review_id|product_id|product_parent|       product_title|product_category|star_rating|helpful_votes|total_votes|vine|verified_purchase|     review_headline|         review_body|        review_date|\n",
            "+-----------+-----------+--------------+----------+--------------+--------------------+----------------+-----------+-------------+-----------+----+-----------------+--------------------+--------------------+-------------------+\n",
            "|         US|   18888920|R36PQ9D8L2AAOH|B00JDQJVF2|     255898874|Amazon.com Gift C...|       Gift Card|          5|           30|         32|   N|                Y|          Five Stars|Love this adorabl...|2015-08-26 00:00:00|\n",
            "|         US|    4765280|R23GHBE86II0SK|B007V6ETDK|     924812503|Amazon eGift Card...|       Gift Card|          5|           18|         21|   N|                Y|Los Angeles Alway...|      Great idea Ama|2015-08-18 00:00:00|\n",
            "|         US|   39230280|R18KVPY0TO33BM|B00JDQJVF2|     255898874|Amazon.com Gift C...|       Gift Card|          5|          241|        248|   N|                Y|Very sweet and co...|I am very impress...|2015-08-16 00:00:00|\n",
            "|         US|     167348|R2ZB78BDM8BRCF|B004LLIKVU|     473048287|Amazon.com eGift ...|       Gift Card|          1|           99|        113|   N|                Y|             Scammed|You should have a...|2015-08-13 00:00:00|\n",
            "|         US|   16553928|R2JMJOWGM7V7NX|BT00CTP6MM|     775486538|Amazon.com Gift C...|       Gift Card|          4|           20|         20|   N|                N|          Four Stars|Thank you note wa...|2015-07-24 00:00:00|\n",
            "|         US|   39357721|R10ORTN0I3G5B9|B00IX1I3G6|     926539283|Amazon.com Gift C...|       Gift Card|          1|           19|         26|   N|                Y|It is getting clo...|Gift cards are no...|2015-07-18 00:00:00|\n",
            "|         US|   43437405|R1D1VPJBTP1WG8|B00IX1I3G6|     926539283|Amazon.com Gift C...|       Gift Card|          1|           38|         51|   N|                Y|I am still waitin...|I recently tried ...|2015-07-13 00:00:00|\n",
            "|         US|   50118836|R3Q3ULUTULAQYH|B00IX1I3G6|     926539283|Amazon.com Gift C...|       Gift Card|          1|           22|         29|   N|                Y|      Not impressed.|Am not impressed....|2015-07-11 00:00:00|\n",
            "|         US|   20020797|R1SHEELXA1IXQP|B00A48G0D4|     848703272|Amazon eGift Card...|       Gift Card|          5|           45|         57|   N|                Y|These gift cards ...|These are handy! ...|2015-07-10 00:00:00|\n",
            "|         US|     212175|R1IQJ99JOPJOE4|B004LLIKVU|     473048287|Amazon.com eGift ...|       Gift Card|          5|           73|         94|   N|                N|                😅😂|Ok, I haven't bou...|2015-07-08 00:00:00|\n",
            "|         US|     338223|R32PHGNOUNJVY2|B004LLIKVU|     473048287|Amazon.com eGift ...|       Gift Card|          1|          111|        150|   N|                Y|            One Star|the Quality is ve...|2015-07-06 00:00:00|\n",
            "|         US|     256644|R32HQ18L7FOP3N|B005FGQHKQ|     379368939|Amazon.com Gift C...|       Gift Card|          1|           18|         23|   N|                N|              Read!!|Most of the 5-sta...|2015-07-06 00:00:00|\n",
            "|         US|   50541491|R2IPGL0F4OCNO9|B00JFBLZ90|     255898874|Amazon.com Gift C...|       Gift Card|          1|           18|         24|   N|                N|I ordered a gift ...|I ordered a gift ...|2015-06-24 00:00:00|\n",
            "|         US|    2547198| R4RNS35ZXYWSU|B00JDQKELW|     832087091|Amazon.com Gift C...|       Gift Card|          2|           52|         59|   N|                Y|   Dented Metal Case|Though the card w...|2015-06-22 00:00:00|\n",
            "|         US|    2290967| R5S7HIQAWL5QS|B0091JL2CQ|     349029296|Amazon.com Gift C...|       Gift Card|          5|           48|         49|   N|                Y|This is seriously...|I purchased this ...|2015-06-14 00:00:00|\n",
            "|         US|   50733118|R12LGU9RL181NG|B004LLIKVU|     473048287|Amazon.com eGift ...|       Gift Card|          1|         5987|       6323|   N|                Y|Amazon should do ...|I think I am just...|2015-06-13 00:00:00|\n",
            "|         US|   21950425|R1ZMHE6AO0T6MO|B00CHQKIDE|     564167907|Amazon.com Gift C...|       Gift Card|          5|           67|         75|   N|                N|          Five Stars|     Awesome to have|2015-06-11 00:00:00|\n",
            "|         US|    1356854| R66RKRKYK3VMO|B0066AZGD4|     136017760|Amazon eGift Card...|       Gift Card|          5|           74|         89|   N|                Y|\"When you really ...|Love that you can...|2015-06-05 00:00:00|\n",
            "|         US|    3250748| R1SVG06BEMESM|B004LLIKVU|     473048287|Amazon.com eGift ...|       Gift Card|          5|           92|        126|   N|                Y|my first order of...|this is the third...|2015-06-04 00:00:00|\n",
            "|         US|   52940323|R1Q5MWSSP3RMYJ|B00JDQJVF2|     255898874|Amazon.com Gift C...|       Gift Card|          1|           25|         29|   N|                Y|Risky Gift Card D...|What's not to lik...|2015-06-03 00:00:00|\n",
            "+-----------+-----------+--------------+----------+--------------+--------------------+----------------+-----------+-------------+-----------+----+-----------------+--------------------+--------------------+-------------------+\n",
            "only showing top 20 rows\n",
            "\n"
          ]
        }
      ]
    },
    {
      "cell_type": "code",
      "source": [
        "# Filter for only with rows where a review was written as part of the Vine program (paid), vine == 'Y'.\n",
        "vine_paid_df = divided_df.filter(divided_df[\"vine\"]== \"Y\")\n",
        "vine_paid_df.show()"
      ],
      "metadata": {
        "colab": {
          "base_uri": "https://localhost:8080/"
        },
        "id": "10Rxy67qbNfc",
        "outputId": "ba680777-d7a3-435a-a39d-bc9cbd212b5d"
      },
      "execution_count": 17,
      "outputs": [
        {
          "output_type": "stream",
          "name": "stdout",
          "text": [
            "+-----------+-----------+---------+----------+--------------+-------------+----------------+-----------+-------------+-----------+----+-----------------+---------------+-----------+-----------+\n",
            "|marketplace|customer_id|review_id|product_id|product_parent|product_title|product_category|star_rating|helpful_votes|total_votes|vine|verified_purchase|review_headline|review_body|review_date|\n",
            "+-----------+-----------+---------+----------+--------------+-------------+----------------+-----------+-------------+-----------+----+-----------------+---------------+-----------+-----------+\n",
            "+-----------+-----------+---------+----------+--------------+-------------+----------------+-----------+-------------+-----------+----+-----------------+---------------+-----------+-----------+\n",
            "\n"
          ]
        }
      ]
    },
    {
      "cell_type": "code",
      "source": [
        "# Filter for only with rows where a review was not written as part of the Vine program (paid), vine == 'N'.\n",
        "vine_no_paid_df = divided_df.filter(divided_df[\"vine\"]== \"N\")\n",
        "vine_no_paid_df.show()"
      ],
      "metadata": {
        "colab": {
          "base_uri": "https://localhost:8080/"
        },
        "id": "XndU18wmcHNB",
        "outputId": "08d937f2-cc02-4991-c22c-2f1435187006"
      },
      "execution_count": 18,
      "outputs": [
        {
          "output_type": "stream",
          "name": "stdout",
          "text": [
            "+-----------+-----------+--------------+----------+--------------+--------------------+----------------+-----------+-------------+-----------+----+-----------------+--------------------+--------------------+-------------------+\n",
            "|marketplace|customer_id|     review_id|product_id|product_parent|       product_title|product_category|star_rating|helpful_votes|total_votes|vine|verified_purchase|     review_headline|         review_body|        review_date|\n",
            "+-----------+-----------+--------------+----------+--------------+--------------------+----------------+-----------+-------------+-----------+----+-----------------+--------------------+--------------------+-------------------+\n",
            "|         US|   18888920|R36PQ9D8L2AAOH|B00JDQJVF2|     255898874|Amazon.com Gift C...|       Gift Card|          5|           30|         32|   N|                Y|          Five Stars|Love this adorabl...|2015-08-26 00:00:00|\n",
            "|         US|    4765280|R23GHBE86II0SK|B007V6ETDK|     924812503|Amazon eGift Card...|       Gift Card|          5|           18|         21|   N|                Y|Los Angeles Alway...|      Great idea Ama|2015-08-18 00:00:00|\n",
            "|         US|   39230280|R18KVPY0TO33BM|B00JDQJVF2|     255898874|Amazon.com Gift C...|       Gift Card|          5|          241|        248|   N|                Y|Very sweet and co...|I am very impress...|2015-08-16 00:00:00|\n",
            "|         US|     167348|R2ZB78BDM8BRCF|B004LLIKVU|     473048287|Amazon.com eGift ...|       Gift Card|          1|           99|        113|   N|                Y|             Scammed|You should have a...|2015-08-13 00:00:00|\n",
            "|         US|   16553928|R2JMJOWGM7V7NX|BT00CTP6MM|     775486538|Amazon.com Gift C...|       Gift Card|          4|           20|         20|   N|                N|          Four Stars|Thank you note wa...|2015-07-24 00:00:00|\n",
            "|         US|   39357721|R10ORTN0I3G5B9|B00IX1I3G6|     926539283|Amazon.com Gift C...|       Gift Card|          1|           19|         26|   N|                Y|It is getting clo...|Gift cards are no...|2015-07-18 00:00:00|\n",
            "|         US|   43437405|R1D1VPJBTP1WG8|B00IX1I3G6|     926539283|Amazon.com Gift C...|       Gift Card|          1|           38|         51|   N|                Y|I am still waitin...|I recently tried ...|2015-07-13 00:00:00|\n",
            "|         US|   50118836|R3Q3ULUTULAQYH|B00IX1I3G6|     926539283|Amazon.com Gift C...|       Gift Card|          1|           22|         29|   N|                Y|      Not impressed.|Am not impressed....|2015-07-11 00:00:00|\n",
            "|         US|   20020797|R1SHEELXA1IXQP|B00A48G0D4|     848703272|Amazon eGift Card...|       Gift Card|          5|           45|         57|   N|                Y|These gift cards ...|These are handy! ...|2015-07-10 00:00:00|\n",
            "|         US|     212175|R1IQJ99JOPJOE4|B004LLIKVU|     473048287|Amazon.com eGift ...|       Gift Card|          5|           73|         94|   N|                N|                😅😂|Ok, I haven't bou...|2015-07-08 00:00:00|\n",
            "|         US|     338223|R32PHGNOUNJVY2|B004LLIKVU|     473048287|Amazon.com eGift ...|       Gift Card|          1|          111|        150|   N|                Y|            One Star|the Quality is ve...|2015-07-06 00:00:00|\n",
            "|         US|     256644|R32HQ18L7FOP3N|B005FGQHKQ|     379368939|Amazon.com Gift C...|       Gift Card|          1|           18|         23|   N|                N|              Read!!|Most of the 5-sta...|2015-07-06 00:00:00|\n",
            "|         US|   50541491|R2IPGL0F4OCNO9|B00JFBLZ90|     255898874|Amazon.com Gift C...|       Gift Card|          1|           18|         24|   N|                N|I ordered a gift ...|I ordered a gift ...|2015-06-24 00:00:00|\n",
            "|         US|    2547198| R4RNS35ZXYWSU|B00JDQKELW|     832087091|Amazon.com Gift C...|       Gift Card|          2|           52|         59|   N|                Y|   Dented Metal Case|Though the card w...|2015-06-22 00:00:00|\n",
            "|         US|    2290967| R5S7HIQAWL5QS|B0091JL2CQ|     349029296|Amazon.com Gift C...|       Gift Card|          5|           48|         49|   N|                Y|This is seriously...|I purchased this ...|2015-06-14 00:00:00|\n",
            "|         US|   50733118|R12LGU9RL181NG|B004LLIKVU|     473048287|Amazon.com eGift ...|       Gift Card|          1|         5987|       6323|   N|                Y|Amazon should do ...|I think I am just...|2015-06-13 00:00:00|\n",
            "|         US|   21950425|R1ZMHE6AO0T6MO|B00CHQKIDE|     564167907|Amazon.com Gift C...|       Gift Card|          5|           67|         75|   N|                N|          Five Stars|     Awesome to have|2015-06-11 00:00:00|\n",
            "|         US|    1356854| R66RKRKYK3VMO|B0066AZGD4|     136017760|Amazon eGift Card...|       Gift Card|          5|           74|         89|   N|                Y|\"When you really ...|Love that you can...|2015-06-05 00:00:00|\n",
            "|         US|    3250748| R1SVG06BEMESM|B004LLIKVU|     473048287|Amazon.com eGift ...|       Gift Card|          5|           92|        126|   N|                Y|my first order of...|this is the third...|2015-06-04 00:00:00|\n",
            "|         US|   52940323|R1Q5MWSSP3RMYJ|B00JDQJVF2|     255898874|Amazon.com Gift C...|       Gift Card|          1|           25|         29|   N|                Y|Risky Gift Card D...|What's not to lik...|2015-06-03 00:00:00|\n",
            "+-----------+-----------+--------------+----------+--------------+--------------------+----------------+-----------+-------------+-----------+----+-----------------+--------------------+--------------------+-------------------+\n",
            "only showing top 20 rows\n",
            "\n"
          ]
        }
      ]
    },
    {
      "cell_type": "code",
      "source": [
        "# # Determine the total number of reviews, the number of 5-star reviews, and the percentage of 5-star reviews for the two types of review for paid.\n",
        "# total_paid_reviews_df=vine_paid_df.count()\n",
        "# total_paid_5star_df = vine_paid_df.filter(vine_paid_df[\"star_rating\"]==5).count()\n",
        "# total_persentage_paid_5star_df = float(total_paid_5star_df)/float(total_paid_reviews_df)\n",
        "# print(total_paid_reviews_df)\n",
        "# print(total_paid_5star_df)\n",
        "# print(total_persentage_paid_5star_df)"
      ],
      "metadata": {
        "id": "OY5MsK7scepw"
      },
      "execution_count": 25,
      "outputs": []
    },
    {
      "cell_type": "code",
      "source": [
        "# Determine the total number of reviews, the number of 5-star reviews, and the percentage of 5-star reviews for the two types of review for unpaid.\n",
        "total_unpaid_reviews_df=vine_no_paid_df.count()\n",
        "total_unpaid_5star_df = vine_no_paid_df.filter(vine_no_paid_df[\"star_rating\"]==5).count()\n",
        "total_persentage_unpaid_5star_df = float(total_unpaid_5star_df)/float(total_unpaid_reviews_df)\n",
        "print(total_unpaid_reviews_df)\n",
        "print(total_unpaid_5star_df)\n",
        "print(total_persentage_unpaid_5star_df)"
      ],
      "metadata": {
        "colab": {
          "base_uri": "https://localhost:8080/"
        },
        "id": "RZM47yCac_1R",
        "outputId": "6674a7b3-8a0c-402b-f084-7c77d7a192ca"
      },
      "execution_count": 24,
      "outputs": [
        {
          "output_type": "stream",
          "name": "stdout",
          "text": [
            "355\n",
            "90\n",
            "0.2535211267605634\n"
          ]
        }
      ]
    },
    {
      "cell_type": "code",
      "source": [],
      "metadata": {
        "id": "hFjWh1yFX-Er"
      },
      "execution_count": null,
      "outputs": []
    }
  ]
}